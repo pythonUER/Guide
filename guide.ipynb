{
 "cells": [
  {
   "cell_type": "markdown",
   "metadata": {},
   "source": [
    "# Подключение библиотек"
   ]
  },
  {
   "cell_type": "code",
   "execution_count": null,
   "metadata": {},
   "outputs": [],
   "source": [
    "import warnings\n",
    "warnings.filterwarnings('ignore')\n",
    "\n",
    "import pandas as pd\n",
    "import numpy as np"
   ]
  },
  {
   "cell_type": "markdown",
   "metadata": {},
   "source": [
    "# DataFrame"
   ]
  },
  {
   "cell_type": "markdown",
   "metadata": {},
   "source": [
    "Чтение из файла"
   ]
  },
  {
   "cell_type": "code",
   "execution_count": null,
   "metadata": {},
   "outputs": [],
   "source": [
    "df = pd.read_excel(r'file_name.xlsx', sheet_name='sheet_name', header=0)"
   ]
  },
  {
   "cell_type": "markdown",
   "metadata": {},
   "source": [
    "Чтение из БД"
   ]
  },
  {
   "cell_type": "code",
   "execution_count": null,
   "metadata": {},
   "outputs": [],
   "source": [
    "from sqlalchemy import create_engine\n",
    "\n",
    "POSTGRES_ADDRESS = '10.248.23.152'\n",
    "POSTGRES_PORT = '5432'\n",
    "POSTGRES_USERNAME = 'isu'\n",
    "POSTGRES_PASSWORD = 'isupass'\n",
    "POSTGRES_DBNAME = 'isu_db'\n",
    "\n",
    "postgres_str = ('postgresql://{username}:{password}@{ipaddress}:{port}/{dbname}'.format(username=POSTGRES_USERNAME, password=POSTGRES_PASSWORD, ipaddress=POSTGRES_ADDRESS, port=POSTGRES_PORT, dbname=POSTGRES_DBNAME))\n",
    "\n",
    "cnx = create_engine(postgres_str)\n",
    "\n",
    "df = pd.read_sql_table('table_name', cnx)"
   ]
  },
  {
   "cell_type": "markdown",
   "metadata": {},
   "source": [
    "Запись в файл"
   ]
  },
  {
   "cell_type": "code",
   "execution_count": null,
   "metadata": {},
   "outputs": [],
   "source": [
    "with pd.ExcelWriter(r'file_name.xlsx', engine='openpyxl') as writer:\n",
    "    df.to_excel(writer, sheet_name='sheet_name', header=True, index=False, encoding = '1251')"
   ]
  },
  {
   "cell_type": "markdown",
   "metadata": {},
   "source": [
    "Запись в БД"
   ]
  },
  {
   "cell_type": "code",
   "execution_count": null,
   "metadata": {},
   "outputs": [],
   "source": [
    "df.to_sql('table_name', cnx, if_exists='append', index_label='id')"
   ]
  },
  {
   "cell_type": "markdown",
   "metadata": {},
   "source": [
    "Получение списка листов"
   ]
  },
  {
   "cell_type": "code",
   "execution_count": null,
   "metadata": {},
   "outputs": [],
   "source": [
    "sheets_list = pd.ExcelFile(r'file_name.xlsx').sheet_names"
   ]
  },
  {
   "cell_type": "markdown",
   "metadata": {},
   "source": [
    "Создание датафрейма"
   ]
  },
  {
   "cell_type": "code",
   "execution_count": null,
   "metadata": {},
   "outputs": [],
   "source": [
    "df = pd.DataFrame(columns=['column_1', 'column_2', 'column_3'])"
   ]
  },
  {
   "cell_type": "markdown",
   "metadata": {},
   "source": [
    "Переименование колонок"
   ]
  },
  {
   "cell_type": "code",
   "execution_count": null,
   "metadata": {},
   "outputs": [],
   "source": [
    "df.rename(columns={'column_1': 'column_4', 'column_2': 'column_5'}, inplace=True)"
   ]
  },
  {
   "cell_type": "markdown",
   "metadata": {},
   "source": [
    "Изменение типа полей"
   ]
  },
  {
   "cell_type": "code",
   "execution_count": null,
   "metadata": {},
   "outputs": [],
   "source": [
    "df.column = df.column.apply(pd.to_datetime)\n",
    "df.column = df.column.astype(int)\n",
    "\n",
    "df.column = df.column.apply(str.lower)\n",
    "df.column = df.column.apply(lambda x: func(x))"
   ]
  },
  {
   "cell_type": "markdown",
   "metadata": {},
   "source": [
    "Добавление записи"
   ]
  },
  {
   "cell_type": "code",
   "execution_count": null,
   "metadata": {},
   "outputs": [],
   "source": [
    "new_line = {'column_1': 'text', 'column_2': 'text', 'column_3': 'text'}\n",
    "df = df.append(new_line, ignore_index=True)"
   ]
  },
  {
   "cell_type": "markdown",
   "metadata": {},
   "source": [
    "Склейка датафреймов"
   ]
  },
  {
   "cell_type": "code",
   "execution_count": null,
   "metadata": {},
   "outputs": [],
   "source": [
    "pd.concat([df_1, df_2], ignore_index=True)"
   ]
  },
  {
   "cell_type": "markdown",
   "metadata": {},
   "source": [
    "Объединение датафреймов по полю"
   ]
  },
  {
   "cell_type": "code",
   "execution_count": null,
   "metadata": {},
   "outputs": [],
   "source": [
    "df = df_1.merge(df_2, on=['column'])"
   ]
  },
  {
   "cell_type": "markdown",
   "metadata": {},
   "source": [
    "Сортировка"
   ]
  },
  {
   "cell_type": "code",
   "execution_count": null,
   "metadata": {},
   "outputs": [],
   "source": [
    "df.sort_values(by=['column'], ascending=False)"
   ]
  },
  {
   "cell_type": "markdown",
   "metadata": {},
   "source": [
    "Кастомная сортировка"
   ]
  },
  {
   "cell_type": "code",
   "execution_count": null,
   "metadata": {},
   "outputs": [],
   "source": [
    "custom_dict = {\n",
    "    'Липецкая область': 0,\n",
    "    'Белгородская область': 1,\n",
    "    'Брянская область': 2,\n",
    "    'Владимирская область': 3,\n",
    "    'Воронежская область': 4,\n",
    "    'Ивановская область': 5,\n",
    "    'Калужская область': 6,\n",
    "    'Костромская область': 7,\n",
    "    'Курская область': 8,    \n",
    "    'Московская область': 9,\n",
    "    'Орловская область': 10,\n",
    "    'Рязанская область': 11,\n",
    "    'Смоленская область': 12,\n",
    "    'Тамбовская область': 13,\n",
    "    'Тверская область': 14,\n",
    "    'Тульская область': 15,\n",
    "    'Ярославская область': 16,\n",
    "    'г. Москва': 17\n",
    "}\n",
    "\n",
    "df.sort_values(by=['column'], key=lambda x: x.map(custom_dict))"
   ]
  },
  {
   "cell_type": "markdown",
   "metadata": {},
   "source": [
    "Построение диаграммы рассеяния"
   ]
  },
  {
   "cell_type": "code",
   "execution_count": null,
   "metadata": {},
   "outputs": [],
   "source": [
    "import matplotlib.pyplot as plt\n",
    "plt.style.use('ggplot')\n",
    "\n",
    "pd.plotting.scatter_matrix(df, figsize=(25, 25))"
   ]
  },
  {
   "cell_type": "markdown",
   "metadata": {},
   "source": [
    "# Функции"
   ]
  },
  {
   "cell_type": "markdown",
   "metadata": {},
   "source": [
    "MAPE"
   ]
  },
  {
   "cell_type": "code",
   "execution_count": null,
   "metadata": {},
   "outputs": [],
   "source": [
    "def mape(actual_values, forecast_values):\n",
    "    if len(actual_values) != len(forecast_values):\n",
    "        raise ValueError(\"Arrays must have the same size\")\n",
    "    else:\n",
    "        n = len(actual_values)\n",
    "        M = 0.0\n",
    "        for actual_value, forecast_value in zip(actual_values, forecast_values):\n",
    "            M += abs((actual_value - forecast_value) / actual_value)\n",
    "        M /= n\n",
    "        return M * 100"
   ]
  },
  {
   "cell_type": "markdown",
   "metadata": {},
   "source": [
    "Преобразование чисел к удобному виду"
   ]
  },
  {
   "cell_type": "code",
   "execution_count": null,
   "metadata": {},
   "outputs": [],
   "source": [
    "def pretty_number(num):    \n",
    "    num = round(num, 0)\n",
    "    num = str(num)\n",
    "    num = num[:-2]\n",
    "    num = num[::-1]    \n",
    "    temp = ''\n",
    "    for i in range(len(num)):\n",
    "        if (i == 3) | (i==6) | (i==9)  | (i==12):\n",
    "            temp += ' ' + num[i]\n",
    "        else:\n",
    "            temp += num[i]\n",
    "    return temp[::-1]"
   ]
  },
  {
   "cell_type": "markdown",
   "metadata": {},
   "source": [
    "Звуковое оповещение"
   ]
  },
  {
   "cell_type": "code",
   "execution_count": null,
   "metadata": {},
   "outputs": [],
   "source": [
    "import winsound\n",
    "\n",
    "def finish_sound():\n",
    "    frequency = 1500   # Set Frequency To 2500 Hertz\n",
    "    duration = 100   # Set Duration To 1000 ms == 1 second\n",
    "    for i in range(3):\n",
    "        winsound.Beep(frequency, duration)"
   ]
  },
  {
   "cell_type": "markdown",
   "metadata": {},
   "source": [
    "Время выполнения"
   ]
  },
  {
   "cell_type": "code",
   "execution_count": null,
   "metadata": {},
   "outputs": [],
   "source": [
    "from datetime import date, datetime\n",
    "\n",
    "start_time = datetime.now()\n",
    "print('\\033[1m\\033[94mВремя работы: %s' %(datetime.now() - start_time) + '\\033[0m')"
   ]
  },
  {
   "cell_type": "markdown",
   "metadata": {},
   "source": [
    "Стиль текста"
   ]
  },
  {
   "cell_type": "code",
   "execution_count": null,
   "metadata": {},
   "outputs": [],
   "source": [
    "class PrintStyle:\n",
    "    purple = '\\033[95m'\n",
    "    cyan = '\\033[96m'\n",
    "    darkcyan = '\\033[36m'\n",
    "    blue = '\\033[94m'\n",
    "    green = '\\033[92m'\n",
    "    yellow = '\\033[93m'\n",
    "    red = '\\033[91m'\n",
    "    bold = '\\033[1m'\n",
    "    underline = '\\033[4m'\n",
    "    end = '\\033[0m'\n",
    "\n",
    "print(PrintStyle.bold + 'Hello World!' + PrintStyle.end)"
   ]
  },
  {
   "cell_type": "markdown",
   "metadata": {},
   "source": [
    "Статус процесса"
   ]
  },
  {
   "cell_type": "code",
   "execution_count": null,
   "metadata": {},
   "outputs": [],
   "source": [
    "import ipywidgets as widgets\n",
    "\n",
    "def create_progress(max_value):\n",
    "    return widgets.IntProgress(value=0, min=0, max=max_value, step=1, description='0%', bar_style='', orientation='horizontal')\n",
    "\n",
    "def increase_progress(progress):\n",
    "    progress.value += 1\n",
    "    progress.description = str(int(round(100 / progress.max * (progress.value), 0))) + '%'\n",
    "    \n",
    "progress = create_progress(df.shape[0])\n",
    "display(progress)"
   ]
  },
  {
   "cell_type": "markdown",
   "metadata": {},
   "source": [
    "Словарь возрастных групп"
   ]
  },
  {
   "cell_type": "code",
   "execution_count": null,
   "metadata": {},
   "outputs": [],
   "source": [
    "age_dict = {'0': '0-4', '1': '0-4', '2': '0-4', '3': '0-4', '4': '0-4',\n",
    "            '5': '5-9', '6': '5-9', '7': '5-9', '8': '5-9', '9': '5-9',\n",
    "            '10': '10-14', '11': '10-14', '12': '10-14', '13': '10-14', '14': '10-14',\n",
    "            '15': '15-19', '16': '15-19', '17': '15-19', '18': '15-19', '19': '15-19',\n",
    "            '20': '20-24', '21': '20-24', '22': '20-24', '23': '20-24', '24': '20-24',\n",
    "            '25': '25-29', '26': '25-29', '27': '25-29', '28': '25-29', '29': '25-29',\n",
    "            '30': '30-34', '31': '30-34', '32': '30-34', '33': '30-34', '34': '30-34',\n",
    "            '35': '35-39', '36': '35-39', '37': '35-39', '38': '35-39', '39': '35-39',\n",
    "            '40': '40-44', '41': '40-44', '42': '40-44', '43': '40-44', '44': '40-44',\n",
    "            '45': '45-49', '46': '45-49', '47': '45-49', '48': '45-49', '49': '45-49',\n",
    "            '50': '50-54', '51': '50-54', '52': '50-54', '53': '50-54', '54': '50-54',\n",
    "            '55': '55-59', '56': '55-59', '57': '55-59', '58': '55-59', '59': '55-59',\n",
    "            '60': '60-64', '61': '60-64', '62': '60-64', '63': '60-64', '64': '60-64',\n",
    "            '65': '65-69', '66': '65-69', '67': '65-69', '68': '65-69', '69': '65-69',\n",
    "            '70': '70-74', '71': '70-74', '72': '70-74', '73': '70-74', '74': '70-74',\n",
    "            '75': '75-79', '76': '75-79', '77': '75-79', '78': '75-79', '79': '75-79',\n",
    "            '80': '80-84', '81': '80-84', '82': '80-84', '83': '80-84', '84': '80-84',\n",
    "            '85': '85-89', '86': '85-89', '87': '85-89', '88': '85-89', '89': '85-89',\n",
    "            '90': '90-94', '91': '90-94', '92': '90-94', '93': '90-94', '94': '90-94',\n",
    "            '95': '95-99', '96': '95-99', '97': '95-99', '98': '95-99', '99': '95-99',\n",
    "            '100 и более': '100 и более'}"
   ]
  },
  {
   "cell_type": "markdown",
   "metadata": {},
   "source": [
    "Кратчайщий путь в графе"
   ]
  },
  {
   "cell_type": "code",
   "execution_count": null,
   "metadata": {},
   "outputs": [],
   "source": [
    "nx.shortest_path(G, source='A', target='B')"
   ]
  },
  {
   "cell_type": "markdown",
   "metadata": {},
   "source": [
    "Boxplot (ящик с усами)"
   ]
  },
  {
   "cell_type": "code",
   "execution_count": null,
   "metadata": {},
   "outputs": [],
   "source": [
    "def boxplot(data):\n",
    "    k = 1.5\n",
    "    q1 = np.quantile(data, 0.25)\n",
    "    q3 = np.quantile(data, 0.75)\n",
    "    IQR = q3 - q1\n",
    "    return q1 - k * IQR, q3 + k * IQR"
   ]
  },
  {
   "cell_type": "markdown",
   "metadata": {},
   "source": [
    "# Plotly"
   ]
  },
  {
   "cell_type": "markdown",
   "metadata": {},
   "source": [
    "Plotly Express"
   ]
  },
  {
   "cell_type": "code",
   "execution_count": null,
   "metadata": {},
   "outputs": [],
   "source": [
    "import plotly.express as px\n",
    "\n",
    "px.scatter(x=[0, 1, 2, 3, 4], y=[0, 1, 4, 9, 16]).show()\n",
    "\n",
    "px.line(x=t, y=np.cos(t), labels={'x':'t', 'y':'cos(t)'}).show()"
   ]
  },
  {
   "cell_type": "markdown",
   "metadata": {},
   "source": [
    "График с двумя осями"
   ]
  },
  {
   "cell_type": "code",
   "execution_count": null,
   "metadata": {},
   "outputs": [],
   "source": [
    "import plotly.graph_objects as go\n",
    "from plotly.subplots import make_subplots\n",
    "\n",
    "fig = make_subplots(specs=[[{'secondary_y': True}]])\n",
    "\n",
    "fig.add_trace(go.Scatter(x=df.date, y=df.column_1, name='column_1'), secondary_y=False)\n",
    "fig.add_trace(go.Scatter(x=df.date, y=df.column_2, name='column_2'), secondary_y=True)\n",
    "\n",
    "fig.update_yaxes(title_text='column_1', secondary_y=False)\n",
    "fig.update_yaxes(title_text='column_2', secondary_y=True)\n",
    "\n",
    "fig.show()"
   ]
  },
  {
   "cell_type": "code",
   "execution_count": null,
   "metadata": {},
   "outputs": [],
   "source": []
  }
 ],
 "metadata": {
  "kernelspec": {
   "display_name": "Python 3",
   "language": "python",
   "name": "python3"
  },
  "language_info": {
   "codemirror_mode": {
    "name": "ipython",
    "version": 3
   },
   "file_extension": ".py",
   "mimetype": "text/x-python",
   "name": "python",
   "nbconvert_exporter": "python",
   "pygments_lexer": "ipython3",
   "version": "3.7.4"
  }
 },
 "nbformat": 4,
 "nbformat_minor": 2
}
